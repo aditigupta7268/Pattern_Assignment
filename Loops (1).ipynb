{
 "cells": [
  {
   "cell_type": "code",
   "execution_count": 1,
   "id": "b75a7c5d-7b57-4b05-8255-660926a44131",
   "metadata": {},
   "outputs": [
    {
     "name": "stdin",
     "output_type": "stream",
     "text": [
      "Enter n:  5\n"
     ]
    },
    {
     "name": "stdout",
     "output_type": "stream",
     "text": [
      "1\n",
      "2\n",
      "3\n",
      "4\n",
      "5\n"
     ]
    }
   ],
   "source": [
    "n = int(input(\"Enter n: \"))\n",
    "i = 1\n",
    "while(i <= n):\n",
    "    print(i)\n",
    "    i += 1"
   ]
  },
  {
   "cell_type": "code",
   "execution_count": 2,
   "id": "a4076401-253b-4b84-b355-f5550db86502",
   "metadata": {},
   "outputs": [
    {
     "name": "stdin",
     "output_type": "stream",
     "text": [
      "Enter n:  6\n"
     ]
    },
    {
     "name": "stdout",
     "output_type": "stream",
     "text": [
      "6\n",
      "5\n",
      "4\n",
      "3\n",
      "2\n",
      "1\n"
     ]
    }
   ],
   "source": [
    "n = int(input(\"Enter n: \"))\n",
    "while(n >= 1):\n",
    "    print(n)\n",
    "    n -= 1"
   ]
  },
  {
   "cell_type": "code",
   "execution_count": 3,
   "id": "59bb34f4-d95c-4ca6-b7e3-2b891f9167f4",
   "metadata": {},
   "outputs": [
    {
     "name": "stdout",
     "output_type": "stream",
     "text": [
      "A\n",
      "B\n",
      "C\n",
      "D\n",
      "E\n",
      "F\n",
      "G\n",
      "H\n",
      "I\n",
      "J\n",
      "K\n",
      "L\n",
      "M\n",
      "N\n",
      "O\n",
      "P\n",
      "Q\n",
      "R\n",
      "S\n",
      "T\n",
      "U\n",
      "V\n",
      "W\n",
      "X\n",
      "Y\n",
      "Z\n"
     ]
    }
   ],
   "source": [
    "i = 65\n",
    "while(i <= ord(\"Z\")):\n",
    "    print(chr(i))\n",
    "    i += 1"
   ]
  },
  {
   "cell_type": "code",
   "execution_count": 4,
   "id": "9c689fad-a815-4fcf-bffe-dad11c22c110",
   "metadata": {},
   "outputs": [
    {
     "name": "stdout",
     "output_type": "stream",
     "text": [
      "2\n",
      "4\n",
      "6\n",
      "8\n",
      "10\n",
      "12\n",
      "14\n",
      "16\n",
      "18\n",
      "20\n",
      "22\n",
      "24\n",
      "26\n",
      "28\n",
      "30\n",
      "32\n",
      "34\n",
      "36\n",
      "38\n",
      "40\n",
      "42\n",
      "44\n",
      "46\n",
      "48\n",
      "50\n",
      "52\n",
      "54\n",
      "56\n",
      "58\n",
      "60\n",
      "62\n",
      "64\n",
      "66\n",
      "68\n",
      "70\n",
      "72\n",
      "74\n",
      "76\n",
      "78\n",
      "80\n",
      "82\n",
      "84\n",
      "86\n",
      "88\n",
      "90\n",
      "92\n",
      "94\n",
      "96\n",
      "98\n",
      "100\n"
     ]
    }
   ],
   "source": [
    "i = 1\n",
    "while(i <= 100):\n",
    "    if(i % 2 == 0):\n",
    "        print(i)\n",
    "    i += 1"
   ]
  },
  {
   "cell_type": "code",
   "execution_count": 5,
   "id": "7765f994-2694-4174-a71b-f7f456a667af",
   "metadata": {},
   "outputs": [
    {
     "name": "stdin",
     "output_type": "stream",
     "text": [
      "Enter n:  5\n"
     ]
    },
    {
     "name": "stdout",
     "output_type": "stream",
     "text": [
      "9\n"
     ]
    }
   ],
   "source": [
    "n = int(input(\"Enter n: \"))\n",
    "sum = 0\n",
    "i = 1\n",
    "while(i <= n):\n",
    "    if(i%2 != 0):\n",
    "        sum += i\n",
    "    i += 1\n",
    "print(sum)"
   ]
  },
  {
   "cell_type": "code",
   "execution_count": 6,
   "id": "068c54ba-7efc-47c0-8a25-7c7296128e43",
   "metadata": {},
   "outputs": [
    {
     "name": "stdin",
     "output_type": "stream",
     "text": [
      "Enter the num :  1234\n"
     ]
    },
    {
     "name": "stdout",
     "output_type": "stream",
     "text": [
      "4\n",
      "3\n",
      "2\n",
      "1\n"
     ]
    }
   ],
   "source": [
    "num = int(input(\"Enter the num : \"))\n",
    "while(num != 0):\n",
    "  temp = num % 10\n",
    "  print(temp)\n",
    "  num = num // 10"
   ]
  },
  {
   "cell_type": "code",
   "execution_count": 8,
   "id": "60cc99dc-4e16-4a9e-ae56-4eea35ccd12d",
   "metadata": {},
   "outputs": [
    {
     "name": "stdin",
     "output_type": "stream",
     "text": [
      "Enter the number:  123434\n"
     ]
    },
    {
     "name": "stdout",
     "output_type": "stream",
     "text": [
      "6\n"
     ]
    }
   ],
   "source": [
    "#18.\n",
    "n = int(input(\"Enter the number: \"))\n",
    "count = 0\n",
    "countN = n\n",
    "\n",
    "while countN != 0:\n",
    "    count += 1\n",
    "    countN = countN // 10\n",
    "\n",
    "print(count)\n"
   ]
  },
  {
   "cell_type": "code",
   "execution_count": 11,
   "id": "d9fbe842-fae4-4971-acff-4e3e90822914",
   "metadata": {},
   "outputs": [
    {
     "name": "stdin",
     "output_type": "stream",
     "text": [
      "Enter the number:  2345\n"
     ]
    },
    {
     "name": "stdout",
     "output_type": "stream",
     "text": [
      "14\n"
     ]
    }
   ],
   "source": [
    "#18.\n",
    "n = int(input(\"Enter the number: \"))\n",
    "count = 0\n",
    "countN = n\n",
    "\n",
    "while countN != 0:\n",
    "    count += 1\n",
    "    countN = countN // 10\n",
    "\n",
    "sum = 0\n",
    "sumN = n\n",
    "\n",
    "while (count > 0):\n",
    "    sum += (sumN % 10)\n",
    "    sumN = sumN // 10\n",
    "    count -= 1\n",
    "print(sum)\n"
   ]
  },
  {
   "cell_type": "code",
   "execution_count": 1,
   "id": "2ba4de5f-8ce1-4c02-bc56-c0495429d9a0",
   "metadata": {},
   "outputs": [
    {
     "name": "stdin",
     "output_type": "stream",
     "text": [
      "Enter the number:  1234\n"
     ]
    },
    {
     "name": "stdout",
     "output_type": "stream",
     "text": [
      "First digit: 1\n",
      "Last digit: 4\n"
     ]
    }
   ],
   "source": [
    "n = int(input(\"Enter the number: \"))\n",
    "original = n\n",
    "\n",
    "last = n % 10\n",
    "\n",
    "while (n >= 10):\n",
    "    n = n // 10\n",
    "first = n\n",
    "\n",
    "print(\"First digit:\", first)\n",
    "print(\"Last digit:\", last)\n"
   ]
  },
  {
   "cell_type": "code",
   "execution_count": 4,
   "id": "63e50a54-0fb8-4dec-96b4-89b21cd1de45",
   "metadata": {},
   "outputs": [
    {
     "name": "stdin",
     "output_type": "stream",
     "text": [
      "Enter the number:  1234\n"
     ]
    },
    {
     "name": "stdout",
     "output_type": "stream",
     "text": [
      "Sum :  5\n"
     ]
    }
   ],
   "source": [
    "n = int(input(\"Enter the number: \"))\n",
    "original = n\n",
    "\n",
    "last = n % 10\n",
    "\n",
    "while (n >= 10):\n",
    "    n = n // 10\n",
    "first = n\n",
    "sum = first + last \n",
    "print(\"Sum : \",sum)"
   ]
  },
  {
   "cell_type": "code",
   "execution_count": 7,
   "id": "f36c67b5-d58c-4404-97db-9d5c77ae4bc2",
   "metadata": {},
   "outputs": [
    {
     "name": "stdin",
     "output_type": "stream",
     "text": [
      "Enter the num :  4\n"
     ]
    },
    {
     "name": "stdout",
     "output_type": "stream",
     "text": [
      "24\n"
     ]
    }
   ],
   "source": [
    "number = int(input(\"Enter the num : \"))\n",
    "factorial = 1\n",
    "for i in range(1, number+1):\n",
    "  factorial = factorial * i\n",
    "print(factorial)"
   ]
  },
  {
   "cell_type": "code",
   "execution_count": 8,
   "id": "3116a6ae-1d17-4f3b-81c7-3da957eb5901",
   "metadata": {},
   "outputs": [
    {
     "name": "stdin",
     "output_type": "stream",
     "text": [
      "Enter the number:  4\n"
     ]
    },
    {
     "name": "stdout",
     "output_type": "stream",
     "text": [
      "24\n"
     ]
    }
   ],
   "source": [
    "number = int(input(\"Enter the number: \"))\n",
    "factorial = 1\n",
    "i = 1\n",
    "while(i <= number):\n",
    "    factorial *= i\n",
    "    i = i+1\n",
    "print(factorial)"
   ]
  },
  {
   "cell_type": "code",
   "execution_count": 6,
   "id": "e44efc3c-8871-464f-9d7f-2e763a1dff20",
   "metadata": {},
   "outputs": [
    {
     "name": "stdin",
     "output_type": "stream",
     "text": [
      "Enter the number :  12\n"
     ]
    },
    {
     "name": "stdout",
     "output_type": "stream",
     "text": [
      "5\n"
     ]
    }
   ],
   "source": [
    "num = int(input(\"Enter the number : \"))\n",
    "count = 0\n",
    "for i in range(2,num+1):\n",
    "    if(num % i == 0):\n",
    "        count += 1\n",
    "print(count)"
   ]
  },
  {
   "cell_type": "code",
   "execution_count": null,
   "id": "659d72ba-e6dd-4c43-a654-a76dabb8e04a",
   "metadata": {},
   "outputs": [],
   "source": [
    "x = int(input(\"Enter the number: \"))\n",
    "y = int(input(\"Enter the power: \"))\n",
    "power = 1\n",
    "for i in range(0,y):\n",
    "    power = power * x\n",
    "print(power)"
   ]
  },
  {
   "cell_type": "code",
   "execution_count": null,
   "id": "68c66f75-2137-4c71-b477-1e54bd6e63a6",
   "metadata": {},
   "outputs": [],
   "source": [
    "x = int(input(\"Enter the number : \"))\n",
    "y = int(input(\"Enter the power : \"))\n",
    "power = 1\n",
    "while(y > 0):\n",
    "    power *= x\n",
    "    y = y-1\n",
    "print(power)"
   ]
  },
  {
   "cell_type": "code",
   "execution_count": null,
   "id": "989d8d70-dd14-46b7-8255-7b25b5d9031b",
   "metadata": {},
   "outputs": [],
   "source": [
    "n = int(input(\"Enter n: \"))\n",
    "m = int(input(\"Enter m: \"))\n",
    "lcm = 1\n",
    "i = 2\n",
    "while(n > 1 or m > 1):\n",
    "    if(n%i == 0 and m%i == 0):\n",
    "        lcm *= i\n",
    "        n = n//i\n",
    "        m = m//i\n",
    "    elif(n%i == 0):\n",
    "        lcm *= i\n",
    "        n = n//i\n",
    "    elif(m%i == 0):\n",
    "        lcm *= i\n",
    "        m = m//i\n",
    "    else:\n",
    "        i = i+1\n",
    "print(\"LCM = \",lcm)\n"
   ]
  },
  {
   "cell_type": "code",
   "execution_count": null,
   "id": "ee7c7a87-0849-44bc-841e-702681900b80",
   "metadata": {},
   "outputs": [],
   "source": [
    "n = int(input(\"Enter n :\"))\n",
    "m = int(input(\"Enter m : \"))\n",
    "lcm = 1\n",
    "for i in range(2,max(n,m) + 1):\n",
    "    while(n>1 or m>1):\n",
    "        if(n%i == 0 or m%i == 0):\n",
    "            lcm *= i\n",
    "            n = n // i\n",
    "            m = m // i\n",
    "        elif(n%i == 0):\n",
    "            n = n // i\n",
    "        elif(m%i == 0):\n",
    "            m = m // i\n",
    "        if (n==1 or m==1):\n",
    "            break\n",
    "print(lcm)"
   ]
  },
  {
   "cell_type": "code",
   "execution_count": null,
   "id": "d0767fac-1fdb-498e-b513-76a1b249848a",
   "metadata": {},
   "outputs": [],
   "source": [
    "num = int(input(\"Enter the num: \"))\n",
    "count = 0\n",
    "for i in range(2,num):\n",
    "    if(num%i == 0):\n",
    "        count += 1\n",
    "if(count == 0):\n",
    "    print(\"Prime\",num)\n",
    "else:\n",
    "    print(\"Not Prime\")"
   ]
  },
  {
   "cell_type": "code",
   "execution_count": null,
   "id": "565243fa-5e2c-47c7-b6c6-3c42f40218b5",
   "metadata": {},
   "outputs": [],
   "source": [
    "num = int(input(\"Enter num: \"))\n",
    "count = 0\n",
    "i = 2\n",
    "while(i < num):\n",
    "    if(num%i == 0):\n",
    "        count += 1\n",
    "    i = i+1\n",
    "if(count == 0):\n",
    "    print(\"Prime\",num)\n",
    "else:\n",
    "    print(\"Not Prime\")"
   ]
  },
  {
   "cell_type": "code",
   "execution_count": null,
   "id": "a7572f86-87be-44c4-8090-69f5d0050ca9",
   "metadata": {},
   "outputs": [],
   "source": [
    "num = int(input(\"Enter the num: \"))\n",
    "i = 2\n",
    "while(num >= 1):\n",
    "    count = 0\n",
    "    for i in range(2,num+1):\n",
    "        if(num%i == 0):\n",
    "            count += 1\n",
    "    if(count == 0):\n",
    "        print(num)\n",
    "    else:\n",
    "        num = num-1"
   ]
  },
  {
   "cell_type": "code",
   "execution_count": null,
   "id": "67bbf6a1-3003-42a2-badf-2d515cca0c8a",
   "metadata": {},
   "outputs": [],
   "source": [
    "# to find a string a palindrome or not \n",
    "data = input(\"Enter the data: \")\n",
    "i = 0\n",
    "end = len(data) - 1\n",
    "out = 0\n",
    "while(i <= len(data)-1):\n",
    "    if(data[i] != data[end]):\n",
    "        out = 1\n",
    "        break\n",
    "    i += 1\n",
    "    end -= 1\n",
    "if(out == 0):\n",
    "    print(\"Palindrome\")\n",
    "else:\n",
    "    print(\"Not a Palindrome\")"
   ]
  },
  {
   "cell_type": "code",
   "execution_count": null,
   "id": "c3aec5ec-da5e-4cbf-9728-a53447024305",
   "metadata": {},
   "outputs": [],
   "source": [
    "# 16.\n",
    "n = int(input(\"Enter the value of n: \"))\n",
    "num = 2\n",
    "\n",
    "while num <= n:\n",
    "    count = 0\n",
    "    i = 2\n",
    "    while i < num:\n",
    "        if num % i == 0:\n",
    "            count += 1\n",
    "        i += 1\n",
    "    if count == 0:\n",
    "        print(num)\n",
    "    num += 1\n"
   ]
  },
  {
   "cell_type": "code",
   "execution_count": null,
   "id": "8b32df27-3c55-40ee-9e09-f0f70850d767",
   "metadata": {},
   "outputs": [],
   "source": [
    "# 17.\n",
    "n = int(input(\"Enter the number : \"))\n",
    "i = 2\n",
    "while(n > 1):\n",
    "    if(n%i == 0):\n",
    "        n = n/i\n",
    "        print(i)\n",
    "    else:\n",
    "        i += 1"
   ]
  },
  {
   "cell_type": "code",
   "execution_count": null,
   "id": "51ad99ba-dbc5-4efb-9422-2f9751ffe9d5",
   "metadata": {},
   "outputs": [],
   "source": [
    "#18.\n",
    "n = int(input(\"Enter the number: \"))\n",
    "count = 0\n",
    "countN = n\n",
    "\n",
    "while countN != 0:\n",
    "    count += 1\n",
    "    countN = countN // 10\n",
    "\n",
    "sum = 0\n",
    "sumN = n\n",
    "\n",
    "while sumN != 0:\n",
    "    sum += (sumN % 10) ** count\n",
    "    sumN = sumN // 10\n",
    "\n",
    "print(sum)\n",
    "if sum == n:\n",
    "    print(\"is an Armstrong number\")\n",
    "else:\n",
    "    print(\"is NOT an Armstrong number\")\n"
   ]
  },
  {
   "cell_type": "code",
   "execution_count": null,
   "id": "00cb5972-e46f-4104-b614-3589ea897dbf",
   "metadata": {},
   "outputs": [],
   "source": [
    "n = int(input(\"Enter a number: \"))\n",
    "sum = 0\n",
    "original = n\n",
    "while n != 0:\n",
    "    digit = n % 10\n",
    "    \n",
    "    fact = 1\n",
    "    i = 1\n",
    "    while i <= digit:\n",
    "        fact = fact * i\n",
    "        i += 1\n",
    "    \n",
    "    sum += fact\n",
    "    n = n // 10\n",
    "\n",
    "if sum == original:\n",
    "    print(original, \"is a Strong number\")\n",
    "else:\n",
    "    print(original, \"is NOT a Strong number\")\n"
   ]
  },
  {
   "cell_type": "code",
   "execution_count": null,
   "id": "13417e40-4e33-4411-a1a0-768337f38c4e",
   "metadata": {},
   "outputs": [],
   "source": [
    "num = int(input(\"Enter the number : \"))\n",
    "sum = 0\n",
    "for i in range(1,num):\n",
    "    if(num % i == 0):\n",
    "         sum += i\n",
    "if(sum == num):\n",
    "    print(\"Perfect Number\")\n",
    "else:\n",
    "    print(\"Not a Perfect Number\")\n",
    "    "
   ]
  },
  {
   "cell_type": "code",
   "execution_count": null,
   "id": "9d633c59-e42c-4998-b53d-a79f3d3bba0e",
   "metadata": {},
   "outputs": [],
   "source": [
    "num = int(input(\"Enter n : \"))\n",
    "a = 0\n",
    "b = 1\n",
    "for i in range(0,num):\n",
    "    print(a)\n",
    "    next = a+b\n",
    "    a = b\n",
    "    b = next"
   ]
  },
  {
   "cell_type": "code",
   "execution_count": 5,
   "id": "f8373df6-d01a-4649-b23c-b00771c9e9eb",
   "metadata": {},
   "outputs": [
    {
     "name": "stdin",
     "output_type": "stream",
     "text": [
      "Enter a binary number:  1001\n"
     ]
    },
    {
     "name": "stdout",
     "output_type": "stream",
     "text": [
      "0110\n"
     ]
    }
   ],
   "source": [
    "num = input(\"Enter a binary number: \")\n",
    "\n",
    "ans = \"\"\n",
    "\n",
    "for bit in num:\n",
    "    if bit == '0':\n",
    "        ans += '1'\n",
    "    elif bit == '1':\n",
    "        ans += '0'\n",
    "    else:\n",
    "        print(\"Invalid binary number\")\n",
    "\n",
    "print(ans)"
   ]
  },
  {
   "cell_type": "code",
   "execution_count": null,
   "id": "a9ce3ad4-8fa3-4573-b8ee-fdc35af9694d",
   "metadata": {},
   "outputs": [],
   "source": []
  }
 ],
 "metadata": {
  "kernelspec": {
   "display_name": "Python 3 (ipykernel)",
   "language": "python",
   "name": "python3"
  },
  "language_info": {
   "codemirror_mode": {
    "name": "ipython",
    "version": 3
   },
   "file_extension": ".py",
   "mimetype": "text/x-python",
   "name": "python",
   "nbconvert_exporter": "python",
   "pygments_lexer": "ipython3",
   "version": "3.11.0rc2"
  }
 },
 "nbformat": 4,
 "nbformat_minor": 5
}
