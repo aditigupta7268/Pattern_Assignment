{
 "cells": [
  {
   "cell_type": "code",
   "execution_count": 11,
   "id": "7461c9ad-a5a2-4ebb-b98c-12cd3860d320",
   "metadata": {},
   "outputs": [
    {
     "name": "stdout",
     "output_type": "stream",
     "text": [
      "* * * * * * *  \n",
      " \n",
      "*           *  \n",
      " \n",
      "*           *  \n",
      " \n",
      "* * * * * * *  \n"
     ]
    }
   ],
   "source": [
    "for i in range(1,8):\n",
    "    for j in range(1,8):\n",
    "        if(i == 2 or i == 4 or i == 6):\n",
    "            continue\n",
    "        if(i == 1 or i == 7 or j == 1 or j == 7):\n",
    "            print(\"*\",end = \" \")\n",
    "        else:\n",
    "            print(\" \",end = \" \")\n",
    "    print(\" \")"
   ]
  },
  {
   "cell_type": "code",
   "execution_count": 2,
   "id": "1b5b97c6-220a-4e22-bcf3-14fbd3d05de5",
   "metadata": {},
   "outputs": [
    {
     "name": "stdout",
     "output_type": "stream",
     "text": [
      "A  \n",
      "A B  \n",
      "A B C  \n",
      "A B C D  \n",
      "A B C D E  \n"
     ]
    }
   ],
   "source": [
    "for i in range(1,6):\n",
    "    temp = 65\n",
    "    for j in range(1,i+1):\n",
    "        print(chr(temp),end = \" \")\n",
    "        temp += 1\n",
    "    print(\" \")"
   ]
  },
  {
   "cell_type": "code",
   "execution_count": 3,
   "id": "534259e0-868d-4316-ab9e-51497aef3609",
   "metadata": {},
   "outputs": [
    {
     "name": "stdout",
     "output_type": "stream",
     "text": [
      "A  \n",
      "B B  \n",
      "C C C  \n",
      "D D D D  \n",
      "E E E E E  \n"
     ]
    }
   ],
   "source": [
    "temp = 65\n",
    "for i in range(1,6):\n",
    "    for j in range(1,i+1):\n",
    "        print(chr(temp),end = \" \")\n",
    "    temp += 1\n",
    "    print(\" \")"
   ]
  },
  {
   "cell_type": "code",
   "execution_count": 4,
   "id": "2d80c403-3100-4e96-9555-0c8d128dccbc",
   "metadata": {},
   "outputs": [
    {
     "name": "stdout",
     "output_type": "stream",
     "text": [
      "E  \n",
      "D E  \n",
      "C D E  \n",
      "B C D E  \n",
      "A B C D E  \n"
     ]
    }
   ],
   "source": [
    "for i in range(1,6):\n",
    "    temp = ord(\"E\") - i\n",
    "    for j in range(1,i+1):\n",
    "        print(chr(temp + j),end = \" \")\n",
    "    print(\" \")"
   ]
  },
  {
   "cell_type": "code",
   "execution_count": 5,
   "id": "d2271bc7-3f64-4b3b-9ad1-bba987687eca",
   "metadata": {},
   "outputs": [
    {
     "name": "stdout",
     "output_type": "stream",
     "text": [
      "            *   \n",
      "         *  *   \n",
      "      *  *  *   \n",
      "   *  *  *  *   \n",
      "*  *  *  *  *   \n"
     ]
    }
   ],
   "source": [
    "for i in range(1,6):\n",
    "    for j in range(5,0,-1):\n",
    "        if(j <= i):\n",
    "             print(\"* \",end = \" \")\n",
    "        else:\n",
    "             print(\"  \",end = \" \")\n",
    "    print(\" \")"
   ]
  },
  {
   "cell_type": "code",
   "execution_count": 6,
   "id": "2cc1239a-ed73-46b4-acd3-99b6f22b13c5",
   "metadata": {},
   "outputs": [
    {
     "name": "stdout",
     "output_type": "stream",
     "text": [
      "        1  \n",
      "      1 2  \n",
      "    1 2 3  \n",
      "  1 2 3 4  \n",
      "1 2 3 4 5  \n"
     ]
    }
   ],
   "source": [
    "for i in range(1,6):\n",
    "    temp = 1\n",
    "    for j in range(5,0,-1):\n",
    "        if(j <= i):\n",
    "            print(temp,end = \" \")\n",
    "            temp += 1\n",
    "        else:\n",
    "            print(\" \",end = \" \")\n",
    "    print(\" \")"
   ]
  },
  {
   "cell_type": "code",
   "execution_count": 7,
   "id": "2cc4c5e4-948a-44ee-8215-35cf4435f787",
   "metadata": {},
   "outputs": [
    {
     "name": "stdout",
     "output_type": "stream",
     "text": [
      "1 2 3 4 5  \n",
      "  1 2 3 4  \n",
      "    1 2 3  \n",
      "      1 2  \n",
      "        1  \n"
     ]
    }
   ],
   "source": [
    "for i in range(5,0,-1):\n",
    "    temp = 1\n",
    "    for j in range(5,0,-1):\n",
    "        if(j <= i):\n",
    "            print(temp,end = \" \")\n",
    "            temp += 1\n",
    "        else:\n",
    "            print(\" \",end = \" \")\n",
    "    print(\" \")"
   ]
  },
  {
   "cell_type": "code",
   "execution_count": 8,
   "id": "660a6651-b6d4-48c6-b236-171e42f3312c",
   "metadata": {},
   "outputs": [
    {
     "name": "stdout",
     "output_type": "stream",
     "text": [
      "A B C D E  \n",
      "  A B C D  \n",
      "    A B C  \n",
      "      A B  \n",
      "        A  \n"
     ]
    }
   ],
   "source": [
    "for i in range(5,0,-1):\n",
    "    temp = 65\n",
    "    for j in range(5,0,-1):\n",
    "        if(j <= i):\n",
    "            print(chr(temp),end = \" \")\n",
    "            temp += 1\n",
    "        else:\n",
    "            print(\" \",end = \" \")\n",
    "    print(\" \")"
   ]
  },
  {
   "cell_type": "code",
   "execution_count": 9,
   "id": "b53dbaa7-4e76-48e4-b1a2-c8eabc2311ca",
   "metadata": {},
   "outputs": [
    {
     "name": "stdout",
     "output_type": "stream",
     "text": [
      "          * * * * *  \n",
      "        * * * * *  \n",
      "      * * * * *  \n",
      "    * * * * *  \n",
      "  * * * * *  \n"
     ]
    }
   ],
   "source": [
    "for i in range(5,0,-1):\n",
    "    for j in range(1,i+1):\n",
    "        print(\" \",end = \" \")\n",
    "    for j in range(1,6):\n",
    "        print(\"*\",end = \" \")\n",
    "    print(\" \")"
   ]
  },
  {
   "cell_type": "code",
   "execution_count": 10,
   "id": "53a85aa9-79e7-41a3-9528-b0bb66707f18",
   "metadata": {},
   "outputs": [
    {
     "name": "stdout",
     "output_type": "stream",
     "text": [
      "          1 2 3 4 5  \n",
      "        1 2 3 4 5  \n",
      "      1 2 3 4 5  \n",
      "    1 2 3 4 5  \n",
      "  1 2 3 4 5  \n"
     ]
    }
   ],
   "source": [
    "for i in range(5,0,-1):\n",
    "    for j in range(1,i+1):\n",
    "        print(\" \",end = \" \")\n",
    "    for j in range(1,6):\n",
    "        print(j,end = \" \")\n",
    "    print(\" \")"
   ]
  },
  {
   "cell_type": "code",
   "execution_count": 11,
   "id": "0366946c-7639-493c-bca4-da3248baa455",
   "metadata": {},
   "outputs": [
    {
     "name": "stdout",
     "output_type": "stream",
     "text": [
      "          A B C D E \n",
      "        A B C D E \n",
      "      A B C D E \n",
      "    A B C D E \n",
      "  A B C D E \n"
     ]
    }
   ],
   "source": [
    "for i in range(5,0,-1):\n",
    "    for j in range(1,i+1):\n",
    "        temp = 65\n",
    "        print(\" \",end = \" \")\n",
    "    for j in range(1,6):\n",
    "        print(chr(temp),end = \" \")\n",
    "        temp += 1\n",
    "    print()"
   ]
  },
  {
   "cell_type": "code",
   "execution_count": 69,
   "id": "011b8c8a-90e9-4b7c-b179-dfa8662d7214",
   "metadata": {},
   "outputs": [
    {
     "name": "stdout",
     "output_type": "stream",
     "text": [
      "    *     \n",
      "   ***    \n",
      "  *****   \n",
      " *******  \n",
      "********* \n"
     ]
    }
   ],
   "source": [
    "num = 5\n",
    "for i in range(1,num+1):\n",
    "    for j in range(num,0,-1):\n",
    "        if(j <= i):\n",
    "             print(\"*\",end = \"\")\n",
    "        else:\n",
    "             print(\" \",end = \"\")\n",
    "    for j in range(2,num+1):\n",
    "        if(j <= i):\n",
    "            print(\"*\",end=\"\")\n",
    "        else:\n",
    "            print(\" \",end = \"\")\n",
    "    print(\" \")"
   ]
  },
  {
   "cell_type": "code",
   "execution_count": 81,
   "id": "16a93c02-812d-46c5-a8f5-df0ab551ebdf",
   "metadata": {},
   "outputs": [
    {
     "name": "stdout",
     "output_type": "stream",
     "text": [
      "   *    \n",
      "  * *   \n",
      " *   *  \n",
      "******* \n"
     ]
    }
   ],
   "source": [
    "for i in range(1,5):\n",
    "    for j in range(4,0,-1):\n",
    "        if(j == i or i == 4):\n",
    "             print(\"*\",end = \"\")\n",
    "        else:\n",
    "             print(\" \",end = \"\")\n",
    "    for j in range(2,5):\n",
    "        if(j == i or i == 4):\n",
    "            print(\"*\",end=\"\")\n",
    "        else:\n",
    "            print(\" \",end = \"\")\n",
    "    print(\" \")"
   ]
  },
  {
   "cell_type": "code",
   "execution_count": 82,
   "id": "5a295d39-7da6-4441-9c2e-a1804ed62e24",
   "metadata": {},
   "outputs": [
    {
     "name": "stdout",
     "output_type": "stream",
     "text": [
      "******* \n",
      " *****  \n",
      "  ***   \n",
      "   *    \n"
     ]
    }
   ],
   "source": [
    "for i in range(4,0,-1):\n",
    "    for j in range(4,0,-1):\n",
    "        if(j <= i):\n",
    "            print(\"*\",end = \"\")\n",
    "        else:\n",
    "            print(\" \",end = \"\")\n",
    "    for j in range(2,5):\n",
    "        if(j <= i):\n",
    "            print(\"*\",end = \"\")\n",
    "        else:\n",
    "            print(\" \",end = \"\")\n",
    "    print(\" \")"
   ]
  },
  {
   "cell_type": "code",
   "execution_count": 83,
   "id": "0c91f734-380f-4d3e-bd17-afd8a9f46bc6",
   "metadata": {},
   "outputs": [
    {
     "name": "stdout",
     "output_type": "stream",
     "text": [
      "*    \n",
      "**   \n",
      "***  \n",
      "**** \n",
      "*** \n",
      "**  \n",
      "*   \n",
      "    \n"
     ]
    }
   ],
   "source": [
    "for i in range(1,5):\n",
    "    for j in range(1,5):\n",
    "        if(j <= i):\n",
    "            print(\"*\",end=\"\")\n",
    "        else:\n",
    "            print(\" \",end = \"\")\n",
    "    print(\" \")\n",
    "for i in range(4,0,-1):\n",
    "    for j in range(2,5):\n",
    "        if(j <= i):\n",
    "            print(\"*\",end = \"\")\n",
    "        else:\n",
    "            print(\" \",end = \"\")\n",
    "    print(\" \")"
   ]
  },
  {
   "cell_type": "code",
   "execution_count": 84,
   "id": "42146b46-482c-4dc0-81c6-daa65a75febb",
   "metadata": {},
   "outputs": [
    {
     "name": "stdout",
     "output_type": "stream",
     "text": [
      "   * \n",
      "  ** \n",
      " *** \n",
      "**** \n",
      " *** \n",
      "  ** \n",
      "   * \n",
      "     \n"
     ]
    }
   ],
   "source": [
    "for i in range(1,5):\n",
    "    for j in range(4,0,-1):\n",
    "        if(j <= i):\n",
    "            print(\"*\",end=\"\")\n",
    "        else:\n",
    "            print(\" \",end = \"\")\n",
    "    print(\" \")\n",
    "for i in range(4,0,-1):\n",
    "    for j in range(4,0,-1):\n",
    "        if(j < i):\n",
    "            print(\"*\",end = \"\")\n",
    "        else:\n",
    "            print(\" \",end = \"\")\n",
    "    print(\" \")"
   ]
  },
  {
   "cell_type": "code",
   "execution_count": 17,
   "id": "5e69d0c1-3086-44f9-bd27-ebe3affa7cd9",
   "metadata": {},
   "outputs": [
    {
     "name": "stdout",
     "output_type": "stream",
     "text": [
      "         *   \n",
      "      *  *  *   \n",
      "   *  *  *  *  *   \n",
      "*  *  *  *  *  *  *   \n",
      "   *  *  *  *  *      \n",
      "      *  *  *         \n",
      "         *            \n",
      "                      \n"
     ]
    }
   ],
   "source": [
    "for i in range(1,5):\n",
    "    for j in range(4,0,-1):\n",
    "        if(j <= i):\n",
    "             print(\"* \",end = \" \")\n",
    "        else:\n",
    "             print(\"  \",end = \" \")\n",
    "    for j in range(2,5):\n",
    "        if(j <= i):\n",
    "            print(\"* \",end=\" \")\n",
    "    print(\" \")\n",
    "for i in range(4,0,-1):\n",
    "    for j in range(4,0,-1):\n",
    "        if(j < i):\n",
    "            print(\"* \",end = \" \")\n",
    "        else:\n",
    "            print(\"  \",end = \" \")\n",
    "    for j in range(2,5):\n",
    "        if(j < i):\n",
    "            print(\"* \",end = \" \")\n",
    "        else:\n",
    "            print(\"  \",end = \" \")\n",
    "    print(\" \")"
   ]
  },
  {
   "cell_type": "code",
   "execution_count": 18,
   "id": "5815b76c-e65c-45fd-8c7c-9c0f43af0605",
   "metadata": {},
   "outputs": [
    {
     "name": "stdout",
     "output_type": "stream",
     "text": [
      "1          \n",
      "1 2        \n",
      "1   3      \n",
      "1     4    \n",
      "1 2 3 4 5  \n"
     ]
    }
   ],
   "source": [
    "for i in range(1,6):\n",
    "    for j in range(1,6):\n",
    "        if(j == 1 or j == i or i == 5):\n",
    "            print(j,end = \" \")\n",
    "        else:\n",
    "            print(\" \",end = \" \")\n",
    "    print(\" \")"
   ]
  },
  {
   "cell_type": "code",
   "execution_count": 19,
   "id": "9d800d4b-e4cd-4396-b394-a78745708c87",
   "metadata": {},
   "outputs": [
    {
     "name": "stdout",
     "output_type": "stream",
     "text": [
      "        1          \n",
      "      2 3 2        \n",
      "    3 4 5 4 3      \n",
      "  4 5 6 7 6 5 4    \n",
      "5 6 7 8 9 8 7 6 5  \n"
     ]
    }
   ],
   "source": [
    "for i in range(1,6):\n",
    "    temp = i\n",
    "    for j in range(5,0,-1):\n",
    "        if(j <= i):\n",
    "            print(temp,end = \" \")\n",
    "            temp += 1\n",
    "        else:\n",
    "            print(\" \",end = \" \")\n",
    "    temp -= 2\n",
    "    for j in range(2,6):\n",
    "        if(j <= i):\n",
    "            print(temp,end = \" \")\n",
    "            temp -= 1\n",
    "        else:\n",
    "            print(\" \",end = \" \")\n",
    "    print(\" \")"
   ]
  },
  {
   "cell_type": "code",
   "execution_count": 20,
   "id": "dfae211b-6dd6-46fb-9658-b0f0075afd0c",
   "metadata": {},
   "outputs": [
    {
     "name": "stdout",
     "output_type": "stream",
     "text": [
      "1          \n",
      "1 2        \n",
      "1 2 3      \n",
      "1 2 3 4    \n",
      "1 2 3 4 5  \n"
     ]
    }
   ],
   "source": [
    "for i in range(1,6):\n",
    "    temp = 1\n",
    "    for j in range(1,6):\n",
    "        if(j <= i):\n",
    "            print(temp,end = \" \")\n",
    "            temp += 1\n",
    "        else:\n",
    "            print(\" \",end = \" \")\n",
    "    print(\" \")"
   ]
  },
  {
   "cell_type": "code",
   "execution_count": 21,
   "id": "c6b09c74-1e6d-4f7e-9565-8d9cd9809ad0",
   "metadata": {},
   "outputs": [
    {
     "name": "stdout",
     "output_type": "stream",
     "text": [
      "1 2 3 4 5  \n",
      "1 2 3 4    \n",
      "1 2 3      \n",
      "1 2        \n",
      "1          \n"
     ]
    }
   ],
   "source": [
    "for i in range(5,0,-1):\n",
    "    temp = 1\n",
    "    for j in range(1,6):\n",
    "        if(j <= i):\n",
    "            print(temp,end = \" \")\n",
    "            temp += 1\n",
    "        else:\n",
    "            print(\" \",end = \" \")\n",
    "    print(\" \")"
   ]
  },
  {
   "cell_type": "code",
   "execution_count": 17,
   "id": "17cc27f7-13d2-40a3-9208-44cc3545d926",
   "metadata": {},
   "outputs": [
    {
     "name": "stdout",
     "output_type": "stream",
     "text": [
      "1 2 3 4 5  \n",
      "2     5    \n",
      "3   5      \n",
      "4 5        \n",
      "5          \n"
     ]
    }
   ],
   "source": [
    "for i in range(5,0,-1):\n",
    "    temp = 6-i\n",
    "    for j in range(1,6):\n",
    "        if(j == 1 or i == 5 or j == i):\n",
    "            print(temp,end = \" \")\n",
    "            temp += 1\n",
    "        else:\n",
    "            print(\" \",end = \" \")\n",
    "            temp += 1\n",
    "    print(\" \")"
   ]
  },
  {
   "cell_type": "code",
   "execution_count": 28,
   "id": "11a0e530-4f50-4658-999e-87c508f68417",
   "metadata": {},
   "outputs": [
    {
     "name": "stdout",
     "output_type": "stream",
     "text": [
      "- - - *  \n",
      "- - * *  \n",
      "- * * *  \n",
      "* * * *  \n"
     ]
    }
   ],
   "source": [
    "for i in range(1,5):\n",
    "    for j in range(1,5-i):\n",
    "        print(\"-\",end = \" \")\n",
    "    for j in range(1,i+1):\n",
    "        print(\"*\" , end = \" \")\n",
    "    print(\" \")"
   ]
  },
  {
   "cell_type": "code",
   "execution_count": 48,
   "id": "91bd9a42-0f0d-4f11-aa93-c49658c9d51a",
   "metadata": {},
   "outputs": [
    {
     "name": "stdout",
     "output_type": "stream",
     "text": [
      "            *           \n",
      "         *  *  *         \n",
      "      *  *  *  *  *       \n",
      "   *  *  *  *  *  *  *     \n",
      "*  *  *  *  *  *  *  *  *   \n",
      "   *  *  *  *  *  *  *      \n",
      "      *  *  *  *  *         \n",
      "         *  *  *            \n",
      "            *               \n"
     ]
    }
   ],
   "source": [
    "num = 5\n",
    "for i in range(1,num):\n",
    "    for j in range(num,0,-1):\n",
    "        if(j <= i):\n",
    "             print(\"* \",end = \" \")\n",
    "        else:\n",
    "             print(\"  \",end = \" \")\n",
    "    for j in range(2,num+1):\n",
    "        if(j <= i):\n",
    "            print(\"* \",end=\" \")\n",
    "        else:\n",
    "            print(\" \",end = \" \")\n",
    "    print(\" \")\n",
    "num1 = 5\n",
    "for i in range(num1,0,-1):\n",
    "    for j in range(num1,0,-1):\n",
    "        if(j <= i):\n",
    "            print(\"* \",end = \" \")\n",
    "        else:\n",
    "            print(\"  \",end = \" \")\n",
    "    for j in range(2,num1+1):\n",
    "        if(j <= i):\n",
    "            print(\"* \",end = \" \")\n",
    "        else:\n",
    "            print(\"  \",end = \" \")\n",
    "    print(\" \")"
   ]
  },
  {
   "cell_type": "code",
   "execution_count": 55,
   "id": "f26e51b1-f6c3-4b49-9883-e17cff7b35f4",
   "metadata": {},
   "outputs": [
    {
     "name": "stdout",
     "output_type": "stream",
     "text": [
      "        1          \n",
      "      1 2 3        \n",
      "    1 2 3 4 5      \n",
      "  1 2 3 4 5 6 7    \n",
      "1 2 3 4 5 6 7 8 9  \n",
      "  1 2 3 4 5 6 7    \n",
      "    1 2 3 4 5      \n",
      "      1 2 3        \n",
      "        1          \n"
     ]
    }
   ],
   "source": [
    "num = 5\n",
    "for i in range(1,num):\n",
    "    temp = 1\n",
    "    for j in range(num,0,-1):\n",
    "        if(j <= i):\n",
    "             print(temp,end = \" \")\n",
    "             temp += 1\n",
    "        else:\n",
    "             print(\" \",end = \" \")\n",
    "    for j in range(2,num+1):\n",
    "        if(j <= i):\n",
    "            print(temp,end=\" \")\n",
    "            temp += 1\n",
    "        else:\n",
    "            print(\" \",end = \" \")\n",
    "    print(\" \")\n",
    "num1 = 5\n",
    "for i in range(num1,0,-1):\n",
    "    temp2 = 1\n",
    "    for j in range(num1,0,-1):\n",
    "        if(j <= i):\n",
    "            print(temp2,end = \" \")\n",
    "            temp2 += 1\n",
    "        else:\n",
    "            print(\" \",end = \" \")\n",
    "    for j in range(2,num1+1):\n",
    "        if(j <= i):\n",
    "            print(temp2,end = \" \")\n",
    "            temp2 += 1\n",
    "        else:\n",
    "            print(\" \",end = \" \")\n",
    "    print(\" \")"
   ]
  },
  {
   "cell_type": "code",
   "execution_count": 37,
   "id": "ec6b942b-a021-4972-b472-9fa65e45bbdd",
   "metadata": {},
   "outputs": [
    {
     "name": "stdout",
     "output_type": "stream",
     "text": [
      "*  \n",
      "* *  \n",
      "* - *  \n",
      "* - - *  \n",
      "* - - - *  \n",
      "* * * * * *  \n"
     ]
    }
   ],
   "source": [
    "num = 6\n",
    "for i in range(1,num+1):\n",
    "    for j in range(1,i+1):\n",
    "        if(j == 1 or i == 6 or i == j):\n",
    "            print(\"*\",end = \" \")\n",
    "        else:\n",
    "            print(\"-\",end = \" \")\n",
    "    print(\" \")"
   ]
  },
  {
   "cell_type": "code",
   "execution_count": 51,
   "id": "2dad3fcc-d27d-453b-9231-a1b6833e43cd",
   "metadata": {},
   "outputs": [
    {
     "name": "stdout",
     "output_type": "stream",
     "text": [
      "* * * * *  \n",
      "* * * *    \n",
      "* * *      \n",
      "* *        \n",
      "*          \n"
     ]
    }
   ],
   "source": [
    "for i in range(5,0,-1):\n",
    "    for j in range(1,6):\n",
    "        if(j <= i):\n",
    "            print(\"*\",end = \" \")\n",
    "        else:\n",
    "            print(\" \",end = \" \")\n",
    "    print(\" \")"
   ]
  },
  {
   "cell_type": "code",
   "execution_count": 63,
   "id": "a9bd2e65-e263-4e03-b978-a3d2241e24f0",
   "metadata": {},
   "outputs": [
    {
     "name": "stdout",
     "output_type": "stream",
     "text": [
      "1 2 3 4 5 6 7  \n",
      "  1 2 3 4 5    \n",
      "    1 2 3      \n",
      "      1        \n",
      "    1 2 3      \n",
      "  1 2 3 4 5    \n",
      "1 2 3 4 5 6 7  \n"
     ]
    }
   ],
   "source": [
    "for i in range(4,0,-1):\n",
    "    temp = 1\n",
    "    for j in range(4,0,-1):\n",
    "        if(j <= i):\n",
    "            print(temp,end = \" \")\n",
    "            temp += 1\n",
    "        else:\n",
    "            print(\" \",end = \" \")\n",
    "    for j in range(2,5):\n",
    "        if(j <= i):\n",
    "            print(temp,end = \" \")\n",
    "            temp += 1\n",
    "        else:\n",
    "            print(\" \",end = \" \")\n",
    "    print(\" \")\n",
    "    \n",
    "for i in range(2,5):\n",
    "    temp2 = 1\n",
    "    for j in range(4,0,-1):\n",
    "        if(j <= i):\n",
    "            print(temp2,end = \" \")\n",
    "            temp2 += 1\n",
    "        else:\n",
    "            print(\" \",end = \" \")\n",
    "    for j in range(2,5):\n",
    "        if(j <= i):\n",
    "            print(temp2,end=\" \")\n",
    "            temp2 += 1\n",
    "        else:\n",
    "            print(\" \",end = \" \")\n",
    "            temp2 += 1\n",
    "    print(\" \")"
   ]
  },
  {
   "cell_type": "code",
   "execution_count": 66,
   "id": "b617742c-5283-4296-8ad1-d0235bae9d33",
   "metadata": {},
   "outputs": [
    {
     "name": "stdout",
     "output_type": "stream",
     "text": [
      "A B C D E F G H I  \n",
      "  A B C D E F G    \n",
      "    A B C D E      \n",
      "      A B C        \n",
      "        A          \n",
      "      A B C        \n",
      "    A B C D E      \n",
      "  A B C D E F G    \n",
      "A B C D E F G H I  \n"
     ]
    }
   ],
   "source": [
    "for i in range(5,0,-1):\n",
    "    temp = 65\n",
    "    for j in range(5,0,-1):\n",
    "        if(j <= i):\n",
    "            print(chr(temp),end = \" \")\n",
    "            temp += 1\n",
    "        else:\n",
    "            print(\" \",end = \" \")\n",
    "    for j in range(2,6):\n",
    "        if(j <= i):\n",
    "            print(chr(temp),end = \" \")\n",
    "            temp += 1\n",
    "        else:\n",
    "            print(\" \",end = \" \")\n",
    "    print(\" \")\n",
    "    \n",
    "for i in range(2,6):\n",
    "    temp2 = 65\n",
    "    for j in range(5,0,-1):\n",
    "        if(j <= i):\n",
    "            print(chr(temp2),end = \" \")\n",
    "            temp2 += 1\n",
    "        else:\n",
    "            print(\" \",end = \" \")\n",
    "    for j in range(2,6):\n",
    "        if(j <= i):\n",
    "            print(chr(temp2),end=\" \")\n",
    "            temp2 += 1\n",
    "        else:\n",
    "            print(\" \",end = \" \")\n",
    "            temp2 += 1\n",
    "    print(\" \")"
   ]
  },
  {
   "cell_type": "code",
   "execution_count": 7,
   "id": "835c7033-e44b-48d2-a65d-6be0669d6c51",
   "metadata": {},
   "outputs": [
    {
     "name": "stdout",
     "output_type": "stream",
     "text": [
      "- - - - *  \n",
      "- - - * *  \n",
      "- - * ? *  \n",
      "- * ? ? *  \n"
     ]
    }
   ],
   "source": [
    "for i in range(1,5):\n",
    "    for j in range(1,5-i+1):\n",
    "        print(\"-\",end = \" \")\n",
    "    for j in range(1,i+1):\n",
    "        if(i == 4):\n",
    "            if(j == 2 or j == 3):\n",
    "                print(\"?\",end = \" \")\n",
    "            else:\n",
    "                print(\"*\" , end = \" \")\n",
    "        elif(i == 3):\n",
    "            if(j == 2):\n",
    "                print(\"?\",end = \" \")\n",
    "            else:\n",
    "                print(\"*\",end = \" \")\n",
    "        else:\n",
    "            print(\"*\" , end = \" \")\n",
    "    print(\" \")"
   ]
  },
  {
   "cell_type": "code",
   "execution_count": 8,
   "id": "6cd68783-4311-4456-a662-2435bd031340",
   "metadata": {},
   "outputs": [
    {
     "name": "stdout",
     "output_type": "stream",
     "text": [
      "*  *  *  *  *   \n",
      "*           *   \n",
      "*           *   \n",
      "*           *   \n",
      "*  *  *  *  *   \n"
     ]
    }
   ],
   "source": [
    "for i in range(1,6):\n",
    "    for j in range(1,6):\n",
    "        if(j == 1 or j == 5 or i == 1 or i == 5):\n",
    "            print(\"* \",end = \" \")\n",
    "        else:\n",
    "            print(\"  \",end = \" \")\n",
    "    print(\" \")"
   ]
  },
  {
   "cell_type": "code",
   "execution_count": 10,
   "id": "fd6a1d15-2cce-4a10-8d9d-507f45fc7484",
   "metadata": {},
   "outputs": [
    {
     "name": "stdout",
     "output_type": "stream",
     "text": [
      "1 2 3 4 5  \n",
      "1       5  \n",
      "1       5  \n",
      "1       5  \n",
      "1 2 3 4 5  \n"
     ]
    }
   ],
   "source": [
    "for i in range(1,6):\n",
    "    for j in range(1,6):\n",
    "        if(j == 1 or j == 5 or i == 1 or i == 5):\n",
    "            print(j,end = \" \")\n",
    "        else:\n",
    "            print(\" \",end = \" \")\n",
    "    print(\" \")"
   ]
  },
  {
   "cell_type": "code",
   "execution_count": 12,
   "id": "29ee8f64-9c0b-45c4-bc43-57dec64fb06d",
   "metadata": {},
   "outputs": [
    {
     "name": "stdout",
     "output_type": "stream",
     "text": [
      "A B C D E  \n",
      "A       E  \n",
      "A       E  \n",
      "A       E  \n",
      "A B C D E  \n"
     ]
    }
   ],
   "source": [
    "for i in range(1,6):\n",
    "    temp = 65\n",
    "    for j in range(1,6):\n",
    "        if(j == 1 or j == 5 or i == 1 or i == 5):\n",
    "            print(chr(temp),end = \" \")\n",
    "            temp += 1\n",
    "        else:\n",
    "            print(\" \",end = \" \")\n",
    "            temp += 1\n",
    "    print(\" \")"
   ]
  },
  {
   "cell_type": "code",
   "execution_count": 49,
   "id": "0e386a84-9525-460b-bf5a-4872eef095d3",
   "metadata": {},
   "outputs": [
    {
     "name": "stdout",
     "output_type": "stream",
     "text": [
      "        A         \n",
      "      A   C       \n",
      "    A       E     \n",
      "  A           G   \n",
      "A               I \n",
      "  A           G   \n",
      "    A       E     \n",
      "      A   C       \n",
      "        A         \n"
     ]
    }
   ],
   "source": [
    "num = 5\n",
    "\n",
    "\n",
    "for i in range(1, num + 1):\n",
    "    temp = 65\n",
    "    \n",
    "    for j in range(num, 0, -1):\n",
    "        if j == i:\n",
    "            print(chr(temp), end=\" \")\n",
    "        else:\n",
    "            print(\" \", end=\" \")\n",
    "    \n",
    "    for j in range(2, num + 1):\n",
    "        if j == i:\n",
    "            print(chr(temp + 2*(i-1)), end=\" \")\n",
    "        else:\n",
    "            print(\" \", end=\" \")\n",
    "    print(\"\")\n",
    "\n",
    "\n",
    "for i in range(num - 1, 0, -1):\n",
    "    temp = 65\n",
    "    \n",
    "    for j in range(num, 0, -1):\n",
    "        if j == i:\n",
    "            print(chr(temp), end=\" \")\n",
    "        else:\n",
    "            print(\" \", end=\" \")\n",
    "\n",
    "    for j in range(2, num + 1):\n",
    "        if j == i:\n",
    "            print(chr(temp + 2*(i-1)), end=\" \")\n",
    "        else:\n",
    "            print(\" \", end=\" \")\n",
    "    print(\"\")\n"
   ]
  },
  {
   "cell_type": "code",
   "execution_count": 44,
   "id": "74f9daaa-e060-411b-90c6-51cb7ef5fe51",
   "metadata": {},
   "outputs": [
    {
     "name": "stdout",
     "output_type": "stream",
     "text": [
      "---* \n",
      "--* * \n",
      "-* * * \n",
      "* * * * \n"
     ]
    }
   ],
   "source": [
    "num = 4\n",
    "for i in range(1,num+1):\n",
    "    for j in range(i,4):\n",
    "        print(\"-\",end = \"\")\n",
    "    for j in range(1,i+1):\n",
    "        print(\"*\",end = \" \")\n",
    "    print(\"\")"
   ]
  },
  {
   "cell_type": "code",
   "execution_count": 32,
   "id": "7fcaf725-f3e8-47b7-b76a-d986ecb2e11c",
   "metadata": {},
   "outputs": [
    {
     "name": "stdout",
     "output_type": "stream",
     "text": [
      "* * * * \n",
      "_* * * \n",
      "__* * \n",
      "___* \n"
     ]
    }
   ],
   "source": [
    "num = 4\n",
    "for i in range(num,0,-1):\n",
    "    for j in range(i,4):\n",
    "        print(\"_\",end = \"\")\n",
    "    for j in range(1,i+1):\n",
    "        print(\"*\",end = \" \")\n",
    "    print(\"\")"
   ]
  },
  {
   "cell_type": "code",
   "execution_count": 38,
   "id": "2332b6ca-1daa-4f17-bb67-47ef22e15e98",
   "metadata": {},
   "outputs": [
    {
     "name": "stdout",
     "output_type": "stream",
     "text": [
      "1 2 3 4 \n",
      " 1 2 3 \n",
      "  1 2 \n",
      "   1 \n"
     ]
    }
   ],
   "source": [
    "num = 4\n",
    "for i in range(num,0,-1):\n",
    "    temp = 1 \n",
    "    for j in range(i,4):\n",
    "        print(\" \",end = \"\")\n",
    "    for j in range(1,i+1):\n",
    "        print(temp,end = \" \")\n",
    "        temp += 1\n",
    "    print(\"\")"
   ]
  },
  {
   "cell_type": "code",
   "execution_count": 41,
   "id": "a3666f24-92a2-4e8a-9fb9-b72012b7d44a",
   "metadata": {},
   "outputs": [
    {
     "name": "stdout",
     "output_type": "stream",
     "text": [
      "   A \n",
      "  A B \n",
      " A B C \n"
     ]
    }
   ],
   "source": [
    "num = 3\n",
    "for i in range(1,num+1):\n",
    "    temp = 65\n",
    "    for j in range(i,4):\n",
    "        print(\" \",end = \"\")\n",
    "    for j in range(1,i+1):\n",
    "        print(chr(temp),end = \" \")\n",
    "        temp += 1\n",
    "    print(\"\")"
   ]
  },
  {
   "cell_type": "code",
   "execution_count": 88,
   "id": "84f3f982-34d8-4e4b-b8ad-e5a32bda270f",
   "metadata": {},
   "outputs": [
    {
     "name": "stdout",
     "output_type": "stream",
     "text": [
      "        *         \n",
      "      *   *       \n",
      "    *       *     \n",
      "  *           *   \n",
      "*               * \n",
      "  *           *   \n",
      "    *       *     \n",
      "      *   *       \n",
      "        *         \n"
     ]
    }
   ],
   "source": [
    "num = 5\n",
    "for i in range(1, num + 1):\n",
    "    for j in range(num, 0, -1):\n",
    "        if j == i:\n",
    "            print(\"*\", end=\" \")\n",
    "        else:\n",
    "            print(\" \", end=\" \")\n",
    "    \n",
    "    for j in range(2, num + 1):\n",
    "        if j == i:\n",
    "            print(\"*\", end=\" \")\n",
    "        else:\n",
    "            print(\" \", end=\" \")\n",
    "    print(\"\")\n",
    "for i in range(num - 1, 0, -1):\n",
    "    for j in range(num, 0, -1):\n",
    "        if j == i:\n",
    "            print(\"*\", end=\" \")\n",
    "        else:\n",
    "            print(\" \", end=\" \")\n",
    "\n",
    "    for j in range(2, num + 1):\n",
    "        if j == i:\n",
    "            print(\"*\", end=\" \")\n",
    "        else:\n",
    "            print(\" \", end=\" \")\n",
    "    print(\"\")\n"
   ]
  },
  {
   "cell_type": "code",
   "execution_count": null,
   "id": "a2ede9f1-a825-4007-a1ca-051b1d15498f",
   "metadata": {},
   "outputs": [],
   "source": []
  }
 ],
 "metadata": {
  "kernelspec": {
   "display_name": "Python 3 (ipykernel)",
   "language": "python",
   "name": "python3"
  },
  "language_info": {
   "codemirror_mode": {
    "name": "ipython",
    "version": 3
   },
   "file_extension": ".py",
   "mimetype": "text/x-python",
   "name": "python",
   "nbconvert_exporter": "python",
   "pygments_lexer": "ipython3",
   "version": "3.11.0rc2"
  }
 },
 "nbformat": 4,
 "nbformat_minor": 5
}
