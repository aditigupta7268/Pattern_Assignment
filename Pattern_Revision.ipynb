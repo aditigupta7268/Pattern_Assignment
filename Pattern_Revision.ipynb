{
 "cells": [
  {
   "cell_type": "code",
   "execution_count": 3,
   "id": "610aa77f-efc4-4d9c-908d-7a47312a6905",
   "metadata": {},
   "outputs": [
    {
     "name": "stdout",
     "output_type": "stream",
     "text": [
      "        * \n",
      "      * * \n",
      "    *   * \n",
      "  *     * \n",
      "* * * * * \n"
     ]
    }
   ],
   "source": [
    "for i in range(1,6):\n",
    "    for j in range(1,6-i):\n",
    "        print(\" \",end = \" \")\n",
    "    for k in range(1,i+1):\n",
    "        if(k == 1 or k == i or i == 5):\n",
    "            print(\"*\",end = \" \")\n",
    "        else:\n",
    "            print(\" \",end = \" \")\n",
    "    print(\"\")"
   ]
  },
  {
   "cell_type": "code",
   "execution_count": 5,
   "id": "3f1f5665-3253-49bc-b7f7-8c36891449ee",
   "metadata": {},
   "outputs": [
    {
     "name": "stdout",
     "output_type": "stream",
     "text": [
      "*******\n",
      "*****\n",
      "***\n",
      "*\n"
     ]
    }
   ],
   "source": [
    "for i in range(4,0,-1):\n",
    "    for j in range(1,2*i):\n",
    "        print(\"*\",end = \"\")\n",
    "    print(\"\")"
   ]
  },
  {
   "cell_type": "code",
   "execution_count": 20,
   "id": "4e5d7d23-060b-4311-bbca-bf2337115ac5",
   "metadata": {},
   "outputs": [
    {
     "name": "stdout",
     "output_type": "stream",
     "text": [
      "* * * * * * * \n",
      "  *       *       \n",
      "    *   *             \n",
      "      *                   \n"
     ]
    }
   ],
   "source": [
    "x = 0\n",
    "for i in range(1,5):\n",
    "    for j in range(1,i):\n",
    "        print(\" \",end = \" \")\n",
    "    for j in range(1,8-x):\n",
    "        if(j == 1 or i == 1 or j == 8 - 2*i + 1):\n",
    "            print(\"*\",end = \" \")\n",
    "        else:\n",
    "            print(\" \",end = \" \")\n",
    "    for j in range(1,i):\n",
    "        print(\" \",end = \" \")\n",
    "    print(\"\")"
   ]
  },
  {
   "cell_type": "code",
   "execution_count": null,
   "id": "1e582005-d9ec-4c88-8f5b-674b7ec10dba",
   "metadata": {},
   "outputs": [],
   "source": []
  }
 ],
 "metadata": {
  "kernelspec": {
   "display_name": "Python 3 (ipykernel)",
   "language": "python",
   "name": "python3"
  },
  "language_info": {
   "codemirror_mode": {
    "name": "ipython",
    "version": 3
   },
   "file_extension": ".py",
   "mimetype": "text/x-python",
   "name": "python",
   "nbconvert_exporter": "python",
   "pygments_lexer": "ipython3",
   "version": "3.11.0rc2"
  }
 },
 "nbformat": 4,
 "nbformat_minor": 5
}
