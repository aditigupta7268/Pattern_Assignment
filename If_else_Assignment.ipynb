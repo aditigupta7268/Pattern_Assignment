{
 "cells": [
  {
   "cell_type": "code",
   "execution_count": 1,
   "id": "3bf9a2f5-c83a-4401-97d0-b64fac1409b8",
   "metadata": {},
   "outputs": [
    {
     "name": "stdin",
     "output_type": "stream",
     "text": [
      "Enter the number :  22\n"
     ]
    },
    {
     "name": "stdout",
     "output_type": "stream",
     "text": [
      "number is even\n"
     ]
    }
   ],
   "source": [
    "# 1.Check for even or odd\n",
    "num = int(input(\"Enter the number : \"))\n",
    "if(num % 2 == 0):\n",
    "    print(\"number is even\")\n",
    "else:\n",
    "    print(\"number is odd\")\n",
    "          "
   ]
  },
  {
   "cell_type": "code",
   "execution_count": 5,
   "id": "3f0417d7-aee9-4e6d-b372-01422f20e2ae",
   "metadata": {},
   "outputs": [
    {
     "name": "stdin",
     "output_type": "stream",
     "text": [
      "Enter the 1st number :  22\n",
      "Enter the 2nd number :  100\n",
      "Enter the 3rd number :  30\n"
     ]
    },
    {
     "name": "stdout",
     "output_type": "stream",
     "text": [
      "largest number :  100\n"
     ]
    }
   ],
   "source": [
    "# 2.\n",
    "a = int(input(\"Enter the 1st number : \"))\n",
    "b = int(input(\"Enter the 2nd number : \"))\n",
    "c = int(input(\"Enter the 3rd number : \"))\n",
    "\n",
    "if (a > b and a > c):\n",
    "    print(\"largest number : \",a)\n",
    "elif (b > a and b > c):\n",
    "    print(\"largest number : \",b)\n",
    "else:\n",
    "    print(\"largest number : \",c)"
   ]
  },
  {
   "cell_type": "code",
   "execution_count": 152,
   "id": "71756ea9-c48a-4eff-8e2c-d3c1d837f4b3",
   "metadata": {},
   "outputs": [
    {
     "name": "stdin",
     "output_type": "stream",
     "text": [
      "Enter year :  2024\n"
     ]
    },
    {
     "name": "stdout",
     "output_type": "stream",
     "text": [
      "Leap Year\n"
     ]
    }
   ],
   "source": [
    "year = int(input(\"Enter year : \"))\n",
    "if(year % 4 == 0 and year % 100 != 0):\n",
    "    print(\"Leap Year\")\n",
    "elif(year % 100 == 0 and year % 400 == 0):\n",
    "    print(\"Leap Year\")\n",
    "else:\n",
    "    print(\"Not a Leap Year\")"
   ]
  },
  {
   "cell_type": "code",
   "execution_count": 15,
   "id": "f2bc82ae-003b-4d78-a137-4b6e91bfbb09",
   "metadata": {},
   "outputs": [
    {
     "name": "stdin",
     "output_type": "stream",
     "text": [
      "Enter the percentage :  87\n"
     ]
    },
    {
     "name": "stdout",
     "output_type": "stream",
     "text": [
      "B\n"
     ]
    }
   ],
   "source": [
    "# 3.\n",
    "percent = int(input(\"Enter the percentage : \"))\n",
    "if(percent >= 90):\n",
    "    print(\"A\")\n",
    "elif(percent >= 80):\n",
    "    print(\"B\")\n",
    "elif(percent >= 70):\n",
    "    print(\"C\")\n",
    "elif(percent >= 60):\n",
    "    print(\"D\")\n",
    "else:\n",
    "    print(\"F\")"
   ]
  },
  {
   "cell_type": "code",
   "execution_count": 19,
   "id": "7e5b8e56-0ef8-45c1-9fe8-b6dbdab16967",
   "metadata": {},
   "outputs": [
    {
     "name": "stdin",
     "output_type": "stream",
     "text": [
      "Enter letter :  k\n"
     ]
    },
    {
     "name": "stdout",
     "output_type": "stream",
     "text": [
      "Consonent\n"
     ]
    }
   ],
   "source": [
    "# 4.\n",
    "letter = input(\"Enter letter : \")\n",
    "\n",
    "if(letter == \"a\" or letter == \"e\" or letter == \"i\" or letter == \"o\" or letter == \"u\"):\n",
    "    print(\"Vowel\")\n",
    "else:\n",
    "    print(\"Consonent\")"
   ]
  },
  {
   "cell_type": "code",
   "execution_count": 25,
   "id": "e2e983dd-1c49-4525-9af5-488ecd6de9df",
   "metadata": {},
   "outputs": [
    {
     "name": "stdin",
     "output_type": "stream",
     "text": [
      "Enter 1st number :  45\n",
      "Enter 2nd number :  12\n",
      "Enter the opreator :  -\n"
     ]
    },
    {
     "name": "stdout",
     "output_type": "stream",
     "text": [
      "difference :  33\n"
     ]
    }
   ],
   "source": [
    "# 5.\n",
    "num1 = int(input(\"Enter 1st number : \"))\n",
    "num2 = int(input(\"Enter 2nd number : \"))\n",
    "operator = input(\"Enter the opreator : \")\n",
    "\n",
    "if(operator == \"+\"):\n",
    "     sum = num1 + num2\n",
    "     print(\"Sum : \",sum)\n",
    "elif(operator == \"-\"):\n",
    "     diff = num1 - num2\n",
    "     print(\"difference : \",diff)\n",
    "elif(operator == \"*\"):\n",
    "     product = num1 * num2\n",
    "     print(\"Product : \",product)\n",
    "elif(operator == \"/\"):\n",
    "     divide = num1 / num2\n",
    "     print(\"division : \",divide)\n",
    "else:\n",
    "    print(\"invalid opreator\")"
   ]
  },
  {
   "cell_type": "code",
   "execution_count": 37,
   "id": "1863f39e-a1b8-4ab4-bf5a-be976eac2b5f",
   "metadata": {},
   "outputs": [
    {
     "name": "stdin",
     "output_type": "stream",
     "text": [
      "Enter the number : 0\n"
     ]
    },
    {
     "name": "stdout",
     "output_type": "stream",
     "text": [
      "Zero\n"
     ]
    }
   ],
   "source": [
    "# 6.\n",
    "num = int(input(\"Enter the number :\"))\n",
    "\n",
    "if(num > 0):\n",
    "    print(\"Positive\")\n",
    "elif(num < 0):\n",
    "    print(\"Negative\")\n",
    "else:\n",
    "    print(\"Zero\")"
   ]
  },
  {
   "cell_type": "code",
   "execution_count": 41,
   "id": "0c783695-85c3-4c4e-9c76-d477c8335d17",
   "metadata": {},
   "outputs": [
    {
     "name": "stdin",
     "output_type": "stream",
     "text": [
      "Enter username :  admin\n",
      "Enter password :  234\n"
     ]
    },
    {
     "name": "stdout",
     "output_type": "stream",
     "text": [
      "Login failed\n"
     ]
    }
   ],
   "source": [
    "# 7.\n",
    "username = input(\"Enter username : \")\n",
    "password = input(\"Enter password : \")\n",
    "\n",
    "if(username == \"admin\" and password == \"1234\"):\n",
    "    print(\"Login Successfully\")\n",
    "else:\n",
    "    print(\"Login failed\")"
   ]
  },
  {
   "cell_type": "code",
   "execution_count": 47,
   "id": "dd5f6456-f77d-4572-be3a-e25ee8055a9d",
   "metadata": {},
   "outputs": [
    {
     "name": "stdin",
     "output_type": "stream",
     "text": [
      "Enter the 1st side :  1\n",
      "Enter the 2nd side :  2\n",
      "Enter the 3rd side :  1\n"
     ]
    },
    {
     "name": "stdout",
     "output_type": "stream",
     "text": [
      "Invalid Triangle\n"
     ]
    }
   ],
   "source": [
    "# 8.\n",
    "a = int(input(\"Enter the 1st side : \"))\n",
    "b = int(input(\"Enter the 2nd side : \"))\n",
    "c = int(input(\"Enter the 3rd side : \"))\n",
    "\n",
    "if (a + b > c and b + c > a and c + a > b):\n",
    "    print(\"Valid Triangle\")\n",
    "else:\n",
    "    print(\"Invalid Triangle\")"
   ]
  },
  {
   "cell_type": "code",
   "execution_count": 79,
   "id": "9f5162fe-0d82-45a0-8ed7-e68613ad003e",
   "metadata": {},
   "outputs": [
    {
     "name": "stdin",
     "output_type": "stream",
     "text": [
      "Enter your weight in kg :  60\n",
      "Enter your height in meters :  160\n"
     ]
    },
    {
     "name": "stdout",
     "output_type": "stream",
     "text": [
      "Underweight\n"
     ]
    }
   ],
   "source": [
    "# 9.\n",
    "weight = int(input(\"Enter your weight in kg : \"))\n",
    "height = float(input(\"Enter your height in meters : \"))\n",
    "\n",
    "BMI = weight/(height**2)\n",
    "\n",
    "if(BMI < 18.5):\n",
    "    print(\"Underweight\")\n",
    "elif(18.5 <= BMI < 24.9):\n",
    "    print(\"Normal BMI\")\n",
    "elif(24.9 <= BMI < 29.9):\n",
    "    print(\"Overweight\")\n",
    "elif(BMI >= 30):\n",
    "    print(\"Obesity\")"
   ]
  },
  {
   "cell_type": "code",
   "execution_count": 86,
   "id": "858e54d0-6b57-436a-8071-91666d0197d4",
   "metadata": {},
   "outputs": [
    {
     "name": "stdin",
     "output_type": "stream",
     "text": [
      "Enter price :  100\n"
     ]
    },
    {
     "name": "stdout",
     "output_type": "stream",
     "text": [
      "Final Price :  100\n"
     ]
    }
   ],
   "source": [
    "# 10.\n",
    "price = int(input(\"Enter price : \"))\n",
    "\n",
    "if(price > 1000):\n",
    "    price -= price * 0.1\n",
    "elif(500 <= price <= 1000):\n",
    "    price -= price * 0.05\n",
    "else:\n",
    "    price = price\n",
    "print(\"Final Price : \" ,price)"
   ]
  },
  {
   "cell_type": "code",
   "execution_count": 105,
   "id": "ffdae878-84a7-488c-aaeb-d9cc33bb151c",
   "metadata": {},
   "outputs": [
    {
     "name": "stdin",
     "output_type": "stream",
     "text": [
      "Enter month name :  Feb\n",
      "Enter year :  2025\n"
     ]
    },
    {
     "name": "stdout",
     "output_type": "stream",
     "text": [
      "Number of days = 28\n"
     ]
    }
   ],
   "source": [
    "# 11.\n",
    "month = input(\"Enter month name : \")\n",
    "\n",
    "if(month == \"Jan\" or month == \"March\" or month == \"May\" or month == \"July\" or month == \"Aug\" or month == \"Oct\" or month == \"Dec\"):\n",
    "    print(\"Number of days = 31\")\n",
    "\n",
    "elif(month == \"April\" or month == \"June\" or month == \"Sept\" or month == \"Nov\"):\n",
    "    print(\"Number of days = 30\")\n",
    "\n",
    "elif(month == \"Feb\"):\n",
    "        year = int(input(\"Enter year : \"))\n",
    "        if(year % 4 == 0 and year % 100 != 0):\n",
    "            print(\"Number of days = 29\")\n",
    "        elif(year % 100 == 0 and year % 400 == 0):\n",
    "            print(\"Number of days = 29\")\n",
    "        else:\n",
    "            print(\"Number of days = 28\")\n",
    "else:\n",
    "    print(\"Invalid input\")"
   ]
  },
  {
   "cell_type": "code",
   "execution_count": 126,
   "id": "df645c49-42fc-49bb-93b9-55b87bd87e27",
   "metadata": {},
   "outputs": [
    {
     "name": "stdin",
     "output_type": "stream",
     "text": [
      "Enter choice number :  2\n",
      "Enter withdrawing amount :  500\n"
     ]
    },
    {
     "name": "stdout",
     "output_type": "stream",
     "text": [
      "Withdraw Money =  500\n",
      "Final Balance =  9500\n"
     ]
    }
   ],
   "source": [
    "# 12.\n",
    "choice = int(input(\"Enter choice number : \"))\n",
    "amount = 10000\n",
    "if(choice == 1):\n",
    "    balance = amount\n",
    "    print(\"Balance = \",amount)\n",
    "elif(choice == 2):\n",
    "    withdraw = int(input(\"Enter withdrawing amount : \"))\n",
    "    if(amount >= withdraw):\n",
    "        balance = amount - withdraw\n",
    "        print(\"Withdraw Money = \",withdraw)\n",
    "    else:\n",
    "        print(\"Not valid\")\n",
    "elif(choice == 3):\n",
    "    deposit = int(input(\"Enter depositing money: \"))\n",
    "    balance = amount + deposit\n",
    "    print(\"Deposited Money = \",deposit)\n",
    "else:\n",
    "    print(\"Invalid choice\")\n",
    "print(\"Final Balance = \",balance)"
   ]
  },
  {
   "cell_type": "code",
   "execution_count": 128,
   "id": "e1875452-8df3-4636-9f49-88d0af936fb6",
   "metadata": {},
   "outputs": [
    {
     "name": "stdin",
     "output_type": "stream",
     "text": [
      "Enter a number between 1 to 7 :  1\n"
     ]
    },
    {
     "name": "stdout",
     "output_type": "stream",
     "text": [
      "Monday\n"
     ]
    }
   ],
   "source": [
    "# 13.\n",
    "integer = int(input(\"Enter a number between 1 to 7 : \"))\n",
    "if(integer == 1):\n",
    "    print(\"Monday\")\n",
    "elif(integer == 2):\n",
    "    print(\"Tuesday\")\n",
    "elif(integer == 3):\n",
    "    print(\"Wednesday\")\n",
    "elif(integer == 4):\n",
    "    print(\"Thursday\")\n",
    "elif(integer == 5):\n",
    "    print(\"Friday\")\n",
    "elif(integer == 6):\n",
    "    print(\"Saturday\")\n",
    "elif(integer == 7):\n",
    "    print(\"Sunday\")\n",
    "else:\n",
    "    print(\"Invalid number\")"
   ]
  },
  {
   "cell_type": "code",
   "execution_count": 154,
   "id": "9bedda1a-30d2-4f29-aa19-3c56b78eb482",
   "metadata": {},
   "outputs": [
    {
     "name": "stdin",
     "output_type": "stream",
     "text": [
      "Enter your age :  30\n"
     ]
    },
    {
     "name": "stdout",
     "output_type": "stream",
     "text": [
      "Adult\n"
     ]
    }
   ],
   "source": [
    "# 14.\n",
    "age = int(input(\"Enter your age : \"))\n",
    "\n",
    "if(0<=age<=1):\n",
    "    print(\"Infant\")\n",
    "elif(2<=age<=4):\n",
    "    print(\"Toddler\")\n",
    "elif(5<=age<=12):\n",
    "    print(\"Child\")\n",
    "elif(13<=age<=19):\n",
    "    print(\"Teenager\")\n",
    "elif(20<=age<=59):\n",
    "    print(\"Adult\")\n",
    "elif(age>=60):\n",
    "    print(\"Senior\")\n",
    "else:\n",
    "    print(\"Invalid\")\n"
   ]
  },
  {
   "cell_type": "code",
   "execution_count": null,
   "id": "ebb025a6-c26b-40f0-b7dd-0b47b67404e9",
   "metadata": {},
   "outputs": [],
   "source": []
  }
 ],
 "metadata": {
  "kernelspec": {
   "display_name": "Python [conda env:base] *",
   "language": "python",
   "name": "conda-base-py"
  },
  "language_info": {
   "codemirror_mode": {
    "name": "ipython",
    "version": 3
   },
   "file_extension": ".py",
   "mimetype": "text/x-python",
   "name": "python",
   "nbconvert_exporter": "python",
   "pygments_lexer": "ipython3",
   "version": "3.12.7"
  }
 },
 "nbformat": 4,
 "nbformat_minor": 5
}
