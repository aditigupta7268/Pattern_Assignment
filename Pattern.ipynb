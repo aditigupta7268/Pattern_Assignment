{
 "cells": [
  {
   "cell_type": "code",
   "execution_count": 2,
   "id": "2545adcc-ea22-494f-b3ff-730b25a5def3",
   "metadata": {},
   "outputs": [
    {
     "name": "stdout",
     "output_type": "stream",
     "text": [
      "hey-hello\n"
     ]
    }
   ],
   "source": [
    "print(\"hey\",end = \"-\")\n",
    "print(\"hello\")"
   ]
  },
  {
   "cell_type": "code",
   "execution_count": 3,
   "id": "d82d3a1e-c007-4e33-a351-fb3825bcfd43",
   "metadata": {},
   "outputs": [
    {
     "name": "stdout",
     "output_type": "stream",
     "text": [
      "Student 1\n",
      "Subject 1 Subject 2 Subject 3 Subject 4 \n",
      "Student 2\n",
      "Subject 1 Subject 2 Subject 3 Subject 4 \n",
      "Student 3\n",
      "Subject 1 Subject 2 Subject 3 Subject 4 \n"
     ]
    }
   ],
   "source": [
    "for i in range(1,4):\n",
    "    print(\"Student\",i)\n",
    "    for j in range(1,5):\n",
    "        print(\"Subject\",j,end = \" \")\n",
    "    print(\"\")"
   ]
  },
  {
   "cell_type": "code",
   "execution_count": 10,
   "id": "8986d0b6-0a26-4284-b816-5da3fb169b08",
   "metadata": {},
   "outputs": [
    {
     "name": "stdout",
     "output_type": "stream",
     "text": [
      "*  *  *  *   \n",
      "*  *  *  *   \n",
      "*  *  *  *   \n",
      "*  *  *  *   \n"
     ]
    }
   ],
   "source": [
    "for i in range(1,5):\n",
    "    for j in range(1,5):\n",
    "        print(\"* \",end = \" \")\n",
    "    print(\" \")"
   ]
  },
  {
   "cell_type": "code",
   "execution_count": 9,
   "id": "e676cdef-2e51-4326-a635-72a549acc799",
   "metadata": {},
   "outputs": [
    {
     "name": "stdout",
     "output_type": "stream",
     "text": [
      "1 2 3 4  \n",
      "1 2 3 4  \n",
      "1 2 3 4  \n",
      "1 2 3 4  \n"
     ]
    }
   ],
   "source": [
    "for i in range(1,5):\n",
    "    for j in range(1,5):\n",
    "        print(j,end = \" \")\n",
    "    print(\" \")"
   ]
  },
  {
   "cell_type": "code",
   "execution_count": 11,
   "id": "f3dbca1f-6a00-4db7-818b-0d62bad0881a",
   "metadata": {},
   "outputs": [
    {
     "name": "stdout",
     "output_type": "stream",
     "text": [
      "1 1 1 1  \n",
      "2 2 2 2  \n",
      "3 3 3 3  \n",
      "4 4 4 4  \n"
     ]
    }
   ],
   "source": [
    "for i in range(1,5):\n",
    "    for j in range(1,5):\n",
    "        print(i,end = \" \")\n",
    "    print(\" \")"
   ]
  },
  {
   "cell_type": "code",
   "execution_count": 15,
   "id": "28c6567f-06c3-42ca-9eb0-cfda7b42e1e7",
   "metadata": {},
   "outputs": [
    {
     "name": "stdout",
     "output_type": "stream",
     "text": [
      "3 3 3  \n",
      "2 2 2  \n",
      "1 1 1  \n"
     ]
    }
   ],
   "source": [
    "temp = 3\n",
    "for i in range(1,4):\n",
    "    for j in range(1,4):\n",
    "        print(temp,end = \" \")\n",
    "    temp -= 1\n",
    "    print(\" \")"
   ]
  },
  {
   "cell_type": "code",
   "execution_count": 21,
   "id": "9379ab76-7875-497a-8b5e-33130773acbf",
   "metadata": {},
   "outputs": [
    {
     "name": "stdout",
     "output_type": "stream",
     "text": [
      "2 3 4  \n",
      "2 3 4  \n",
      "2 3 4  \n"
     ]
    }
   ],
   "source": [
    "for i in range(1,4):\n",
    "    temp = 2\n",
    "    for j in range(1,4):\n",
    "        print(temp , end = \" \")\n",
    "        temp += 1\n",
    "    print(\" \")"
   ]
  },
  {
   "cell_type": "code",
   "execution_count": 18,
   "id": "239af39c-1b36-456a-8eb1-9bc69f23edbc",
   "metadata": {},
   "outputs": [
    {
     "name": "stdout",
     "output_type": "stream",
     "text": [
      "1 2 3  \n",
      "4 5 6  \n",
      "7 8 9  \n"
     ]
    }
   ],
   "source": [
    "temp = 1\n",
    "for i in range(1,4):\n",
    "    for j in range(1,4):\n",
    "        print(temp,end=\" \")\n",
    "        temp += 1\n",
    "    print(\" \")"
   ]
  },
  {
   "cell_type": "code",
   "execution_count": 29,
   "id": "16ae43a9-5c27-450c-b750-2d981274ffd4",
   "metadata": {},
   "outputs": [
    {
     "name": "stdout",
     "output_type": "stream",
     "text": [
      "9 8 7  \n",
      "6 5 4  \n",
      "3 2 1  \n"
     ]
    }
   ],
   "source": [
    "temp = 9\n",
    "for i in range(1,4):\n",
    "    for j in range(1,4):\n",
    "        print(temp , end = \" \")\n",
    "        temp -= 1\n",
    "    print(\" \")"
   ]
  },
  {
   "cell_type": "code",
   "execution_count": 30,
   "id": "ebc70473-0968-44c2-b02e-9d129e5006e5",
   "metadata": {},
   "outputs": [
    {
     "name": "stdout",
     "output_type": "stream",
     "text": [
      "*   \n",
      "*  *   \n",
      "*  *  *   \n",
      "*  *  *  *   \n",
      "*  *  *  *  *   \n"
     ]
    }
   ],
   "source": [
    "for i in range(1,6):\n",
    "    for j in range(1,i+1):\n",
    "        print(\"* \",end=\" \")\n",
    "    print(\" \")"
   ]
  },
  {
   "cell_type": "code",
   "execution_count": 33,
   "id": "8d348745-b907-4171-8e16-449652d7280a",
   "metadata": {},
   "outputs": [
    {
     "name": "stdout",
     "output_type": "stream",
     "text": [
      "5  \n",
      "5 5  \n",
      "5 5 5  \n",
      "5 5 5 5  \n"
     ]
    }
   ],
   "source": [
    "for i in range(1,5):\n",
    "    for j in range(1,i+1):\n",
    "        temp = 5\n",
    "        print(temp,end=\" \")\n",
    "    print(\" \")"
   ]
  },
  {
   "cell_type": "code",
   "execution_count": 34,
   "id": "95df59a2-3a02-47da-be30-af24415fbb77",
   "metadata": {},
   "outputs": [
    {
     "name": "stdout",
     "output_type": "stream",
     "text": [
      "1  \n",
      "1 2  \n",
      "1 2 3  \n"
     ]
    }
   ],
   "source": [
    "for i in range(1,4):\n",
    "    for j in range(1,i+1):\n",
    "        print(j,end=\" \")\n",
    "    print(\" \")"
   ]
  },
  {
   "cell_type": "code",
   "execution_count": 37,
   "id": "d36d4983-bf51-4e0e-ba59-710c0d76d491",
   "metadata": {},
   "outputs": [
    {
     "name": "stdout",
     "output_type": "stream",
     "text": [
      "7  \n",
      "6 5  \n",
      "4 3 2  \n"
     ]
    }
   ],
   "source": [
    "temp = 7\n",
    "for i in range(1,4):\n",
    "    for j in range(1,i+1):\n",
    "        print(temp,end=\" \")\n",
    "        temp -= 1\n",
    "    print(\" \")"
   ]
  },
  {
   "cell_type": "code",
   "execution_count": null,
   "id": "04e7f9e7-1a51-4018-a2f8-5c2bab7a9f76",
   "metadata": {},
   "outputs": [],
   "source": []
  }
 ],
 "metadata": {
  "kernelspec": {
   "display_name": "Python 3 (ipykernel)",
   "language": "python",
   "name": "python3"
  },
  "language_info": {
   "codemirror_mode": {
    "name": "ipython",
    "version": 3
   },
   "file_extension": ".py",
   "mimetype": "text/x-python",
   "name": "python",
   "nbconvert_exporter": "python",
   "pygments_lexer": "ipython3",
   "version": "3.11.0rc2"
  }
 },
 "nbformat": 4,
 "nbformat_minor": 5
}
